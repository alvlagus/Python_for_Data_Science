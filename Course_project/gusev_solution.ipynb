{
 "cells": [
  {
   "cell_type": "markdown",
   "metadata": {
    "collapsed": true,
    "pycharm": {
     "name": "#%% md\n"
    }
   },
   "source": [
    "## Содержание\n"
   ]
  },
  {
   "cell_type": "markdown",
   "metadata": {
    "pycharm": {
     "name": "#%% md\n"
    }
   },
   "source": [
    "#### Подключение библиотек и скриптов"
   ]
  },
  {
   "cell_type": "code",
   "execution_count": 2,
   "metadata": {
    "pycharm": {
     "name": "#%%\n"
    }
   },
   "outputs": [],
   "source": [
    "import numpy as np"
   ]
  },
  {
   "cell_type": "code",
   "execution_count": 3,
   "outputs": [],
   "source": [
    "import pandas as pd"
   ],
   "metadata": {
    "collapsed": false,
    "pycharm": {
     "name": "#%%\n"
    }
   }
  },
  {
   "cell_type": "markdown",
   "metadata": {
    "pycharm": {
     "name": "#%% md\n"
    }
   },
   "source": [
    "#### Пути к директориям и файлам\n"
   ]
  },
  {
   "cell_type": "code",
   "execution_count": 4,
   "metadata": {
    "pycharm": {
     "name": "#%%\n"
    }
   },
   "outputs": [],
   "source": [
    "DATASET_PATH = '/home/gans/Документы/Обучение/GeekBrains/9. Библиотеки Python для DS/1. course project/input data/train.csv'\n",
    "PREPARED_DATASET_PATH = '/home/gans/Документы/Обучение/GeekBrains/9. Библиотеки Python для DS/1. course project/input data/train.csv'"
   ]
  },
  {
   "cell_type": "markdown",
   "metadata": {
    "pycharm": {
     "name": "#%% md\n"
    }
   },
   "source": [
    "### 1.Загрузка данных"
   ]
  },
  {
   "cell_type": "markdown",
   "metadata": {
    "pycharm": {
     "name": "#%% md\n"
    }
   },
   "source": [
    "#### Описание датасета\n",
    "**Id** - идентификационный номер квартиры\n",
    "\n",
    "**DistrictId** - идентификационный номер района\n",
    "\n",
    "**Rooms** - количество комнат\n",
    "\n",
    "**Square** - площадь\n",
    "\n",
    "**LifeSquare** - жилая площадь\n",
    "\n",
    "**KitchenSquare** - площадь кухни\n",
    "\n",
    "**Floor** - этаж\n",
    "\n",
    "**HouseFloor** - количество этажей в доме\n",
    "\n",
    "**HouseYear** - год постройки дома\n",
    "\n",
    "**Ecology_1**, **Ecology_2**, **Ecology_3** - экологические показатели местности\n",
    "\n",
    "**Social_1**, **Social_2**, **Social_3** - социальные показатели местности\n",
    "\n",
    "**Healthcare_1**, **Helthcare_2** - показатели местности, связанные с охраной здоровья\n",
    "\n",
    "**Shops_1**, **Shops_2** - показатели, связанные с наличием магазинов, торговых центров\n",
    "\n",
    "**Price** - цена квартиры\n"
   ]
  },
  {
   "cell_type": "code",
   "execution_count": 5,
   "metadata": {
    "pycharm": {
     "name": "#%%\n"
    }
   },
   "outputs": [
    {
     "data": {
      "text/plain": "       DistrictId  Rooms     Square  LifeSquare  KitchenSquare  Floor  \\\nId                                                                      \n14038          35    2.0  47.981561   29.442751            6.0      7   \n15053          41    3.0  65.683640   40.049543            8.0      7   \n4765           53    2.0  44.947953   29.197612            0.0      8   \n5809           58    2.0  53.352981   52.731512            9.0      8   \n10783          99    1.0  39.649192   23.776169            7.0     11   \n\n       HouseFloor  HouseYear  Ecology_1 Ecology_2 Ecology_3  Social_1  \\\nId                                                                      \n14038         9.0       1969   0.089040         B         B        33   \n15053         9.0       1978   0.000070         B         B        46   \n4765         12.0       1968   0.049637         B         B        34   \n5809         17.0       1977   0.437885         B         B        23   \n10783        12.0       1976   0.012339         B         B        35   \n\n       Social_2  Social_3  Healthcare_1  Helthcare_2  Shops_1 Shops_2  \\\nId                                                                      \n14038      7976         5           NaN            0       11       B   \n15053     10309         1         240.0            1       16       B   \n4765       7759         0         229.0            1        3       B   \n5809       5735         3        1084.0            0        5       B   \n10783      5776         1        2078.0            2        4       B   \n\n               Price  \nId                    \n14038  184966.930730  \n15053  300009.450063  \n4765   220925.908524  \n5809   175616.227217  \n10783  150226.531644  ",
      "text/html": "<div>\n<style scoped>\n    .dataframe tbody tr th:only-of-type {\n        vertical-align: middle;\n    }\n\n    .dataframe tbody tr th {\n        vertical-align: top;\n    }\n\n    .dataframe thead th {\n        text-align: right;\n    }\n</style>\n<table border=\"1\" class=\"dataframe\">\n  <thead>\n    <tr style=\"text-align: right;\">\n      <th></th>\n      <th>DistrictId</th>\n      <th>Rooms</th>\n      <th>Square</th>\n      <th>LifeSquare</th>\n      <th>KitchenSquare</th>\n      <th>Floor</th>\n      <th>HouseFloor</th>\n      <th>HouseYear</th>\n      <th>Ecology_1</th>\n      <th>Ecology_2</th>\n      <th>Ecology_3</th>\n      <th>Social_1</th>\n      <th>Social_2</th>\n      <th>Social_3</th>\n      <th>Healthcare_1</th>\n      <th>Helthcare_2</th>\n      <th>Shops_1</th>\n      <th>Shops_2</th>\n      <th>Price</th>\n    </tr>\n    <tr>\n      <th>Id</th>\n      <th></th>\n      <th></th>\n      <th></th>\n      <th></th>\n      <th></th>\n      <th></th>\n      <th></th>\n      <th></th>\n      <th></th>\n      <th></th>\n      <th></th>\n      <th></th>\n      <th></th>\n      <th></th>\n      <th></th>\n      <th></th>\n      <th></th>\n      <th></th>\n      <th></th>\n    </tr>\n  </thead>\n  <tbody>\n    <tr>\n      <th>14038</th>\n      <td>35</td>\n      <td>2.0</td>\n      <td>47.981561</td>\n      <td>29.442751</td>\n      <td>6.0</td>\n      <td>7</td>\n      <td>9.0</td>\n      <td>1969</td>\n      <td>0.089040</td>\n      <td>B</td>\n      <td>B</td>\n      <td>33</td>\n      <td>7976</td>\n      <td>5</td>\n      <td>NaN</td>\n      <td>0</td>\n      <td>11</td>\n      <td>B</td>\n      <td>184966.930730</td>\n    </tr>\n    <tr>\n      <th>15053</th>\n      <td>41</td>\n      <td>3.0</td>\n      <td>65.683640</td>\n      <td>40.049543</td>\n      <td>8.0</td>\n      <td>7</td>\n      <td>9.0</td>\n      <td>1978</td>\n      <td>0.000070</td>\n      <td>B</td>\n      <td>B</td>\n      <td>46</td>\n      <td>10309</td>\n      <td>1</td>\n      <td>240.0</td>\n      <td>1</td>\n      <td>16</td>\n      <td>B</td>\n      <td>300009.450063</td>\n    </tr>\n    <tr>\n      <th>4765</th>\n      <td>53</td>\n      <td>2.0</td>\n      <td>44.947953</td>\n      <td>29.197612</td>\n      <td>0.0</td>\n      <td>8</td>\n      <td>12.0</td>\n      <td>1968</td>\n      <td>0.049637</td>\n      <td>B</td>\n      <td>B</td>\n      <td>34</td>\n      <td>7759</td>\n      <td>0</td>\n      <td>229.0</td>\n      <td>1</td>\n      <td>3</td>\n      <td>B</td>\n      <td>220925.908524</td>\n    </tr>\n    <tr>\n      <th>5809</th>\n      <td>58</td>\n      <td>2.0</td>\n      <td>53.352981</td>\n      <td>52.731512</td>\n      <td>9.0</td>\n      <td>8</td>\n      <td>17.0</td>\n      <td>1977</td>\n      <td>0.437885</td>\n      <td>B</td>\n      <td>B</td>\n      <td>23</td>\n      <td>5735</td>\n      <td>3</td>\n      <td>1084.0</td>\n      <td>0</td>\n      <td>5</td>\n      <td>B</td>\n      <td>175616.227217</td>\n    </tr>\n    <tr>\n      <th>10783</th>\n      <td>99</td>\n      <td>1.0</td>\n      <td>39.649192</td>\n      <td>23.776169</td>\n      <td>7.0</td>\n      <td>11</td>\n      <td>12.0</td>\n      <td>1976</td>\n      <td>0.012339</td>\n      <td>B</td>\n      <td>B</td>\n      <td>35</td>\n      <td>5776</td>\n      <td>1</td>\n      <td>2078.0</td>\n      <td>2</td>\n      <td>4</td>\n      <td>B</td>\n      <td>150226.531644</td>\n    </tr>\n  </tbody>\n</table>\n</div>"
     },
     "execution_count": 5,
     "metadata": {},
     "output_type": "execute_result"
    }
   ],
   "source": [
    "df = pd.read_csv(DATASET_PATH, index_col='Id')\n",
    "df.head()"
   ]
  },
  {
   "cell_type": "code",
   "execution_count": 6,
   "metadata": {
    "pycharm": {
     "name": "#%%\n"
    }
   },
   "outputs": [
    {
     "data": {
      "text/plain": "(10000, 19)"
     },
     "execution_count": 6,
     "metadata": {},
     "output_type": "execute_result"
    }
   ],
   "source": [
    "df.shape"
   ]
  },
  {
   "cell_type": "markdown",
   "metadata": {
    "pycharm": {
     "name": "#%% md\n"
    }
   },
   "source": [
    "### 2. Получение информации о данных"
   ]
  },
  {
   "cell_type": "code",
   "execution_count": 7,
   "metadata": {
    "pycharm": {
     "name": "#%%\n"
    }
   },
   "outputs": [
    {
     "data": {
      "text/plain": "Index(['DistrictId', 'Rooms', 'Square', 'LifeSquare', 'KitchenSquare', 'Floor',\n       'HouseFloor', 'HouseYear', 'Ecology_1', 'Ecology_2', 'Ecology_3',\n       'Social_1', 'Social_2', 'Social_3', 'Healthcare_1', 'Helthcare_2',\n       'Shops_1', 'Shops_2', 'Price'],\n      dtype='object')"
     },
     "execution_count": 7,
     "metadata": {},
     "output_type": "execute_result"
    }
   ],
   "source": [
    "df.columns"
   ]
  },
  {
   "cell_type": "markdown",
   "source": [],
   "metadata": {
    "collapsed": false,
    "pycharm": {
     "name": "#%% md\n"
    }
   }
  },
  {
   "cell_type": "markdown",
   "source": [
    "Развернутая информация"
   ],
   "metadata": {
    "collapsed": false,
    "pycharm": {
     "name": "#%% md\n"
    }
   }
  },
  {
   "cell_type": "code",
   "execution_count": 8,
   "outputs": [
    {
     "name": "stdout",
     "output_type": "stream",
     "text": [
      "<class 'pandas.core.frame.DataFrame'>\n",
      "Int64Index: 10000 entries, 14038 to 6306\n",
      "Data columns (total 19 columns):\n",
      " #   Column         Non-Null Count  Dtype  \n",
      "---  ------         --------------  -----  \n",
      " 0   DistrictId     10000 non-null  int64  \n",
      " 1   Rooms          10000 non-null  float64\n",
      " 2   Square         10000 non-null  float64\n",
      " 3   LifeSquare     7887 non-null   float64\n",
      " 4   KitchenSquare  10000 non-null  float64\n",
      " 5   Floor          10000 non-null  int64  \n",
      " 6   HouseFloor     10000 non-null  float64\n",
      " 7   HouseYear      10000 non-null  int64  \n",
      " 8   Ecology_1      10000 non-null  float64\n",
      " 9   Ecology_2      10000 non-null  object \n",
      " 10  Ecology_3      10000 non-null  object \n",
      " 11  Social_1       10000 non-null  int64  \n",
      " 12  Social_2       10000 non-null  int64  \n",
      " 13  Social_3       10000 non-null  int64  \n",
      " 14  Healthcare_1   5202 non-null   float64\n",
      " 15  Helthcare_2    10000 non-null  int64  \n",
      " 16  Shops_1        10000 non-null  int64  \n",
      " 17  Shops_2        10000 non-null  object \n",
      " 18  Price          10000 non-null  float64\n",
      "dtypes: float64(8), int64(8), object(3)\n",
      "memory usage: 1.5+ MB\n"
     ]
    }
   ],
   "source": [
    "df.info()"
   ],
   "metadata": {
    "collapsed": false,
    "pycharm": {
     "name": "#%%\n"
    }
   }
  },
  {
   "cell_type": "markdown",
   "source": [
    "Сокращенная информация (удалить)"
   ],
   "metadata": {
    "collapsed": false,
    "pycharm": {
     "name": "#%% md\n"
    }
   }
  },
  {
   "cell_type": "code",
   "execution_count": 9,
   "metadata": {
    "pycharm": {
     "name": "#%%\n"
    }
   },
   "outputs": [
    {
     "data": {
      "text/plain": "DistrictId         int64\nRooms            float64\nSquare           float64\nLifeSquare       float64\nKitchenSquare    float64\nFloor              int64\nHouseFloor       float64\nHouseYear          int64\nEcology_1        float64\nEcology_2         object\nEcology_3         object\nSocial_1           int64\nSocial_2           int64\nSocial_3           int64\nHealthcare_1     float64\nHelthcare_2        int64\nShops_1            int64\nShops_2           object\nPrice            float64\ndtype: object"
     },
     "execution_count": 9,
     "metadata": {},
     "output_type": "execute_result"
    }
   ],
   "source": [
    "df.dtypes"
   ]
  },
  {
   "cell_type": "markdown",
   "source": [
    "Статистика по всем количественным столбцам"
   ],
   "metadata": {
    "collapsed": false,
    "pycharm": {
     "name": "#%% md\n"
    }
   }
  },
  {
   "cell_type": "code",
   "execution_count": 22,
   "metadata": {
    "pycharm": {
     "name": "#%%\n"
    }
   },
   "outputs": [
    {
     "data": {
      "text/plain": "                 count           mean            std           min  \\\nDistrictId     10000.0      50.400800      43.587592      0.000000   \nRooms          10000.0       1.890500       0.839512      0.000000   \nSquare         10000.0      56.315775      21.058732      1.136859   \nLifeSquare      7887.0      37.199645      86.241209      0.370619   \nKitchenSquare  10000.0       6.273300      28.560917      0.000000   \nFloor          10000.0       8.526700       5.241148      1.000000   \nHouseFloor     10000.0      12.609400       6.775974      0.000000   \nHouseYear      10000.0    3990.166300  200500.261427   1910.000000   \nEcology_1      10000.0       0.118858       0.119025      0.000000   \nSocial_1       10000.0      24.687000      17.532614      0.000000   \nSocial_2       10000.0    5352.157400    4006.799803    168.000000   \nSocial_3       10000.0       8.039200      23.831875      0.000000   \nHealthcare_1    5202.0    1142.904460    1021.517264      0.000000   \nHelthcare_2    10000.0       1.319500       1.493601      0.000000   \nShops_1        10000.0       4.231300       4.806341      0.000000   \nPrice          10000.0  214138.857399   92872.293865  59174.778028   \n\n                         25%            50%            75%           max  \nDistrictId         20.000000      36.000000      75.000000  2.090000e+02  \nRooms               1.000000       2.000000       2.000000  1.900000e+01  \nSquare             41.774881      52.513310      65.900625  6.410652e+02  \nLifeSquare         22.769832      32.781260      45.128803  7.480592e+03  \nKitchenSquare       1.000000       6.000000       9.000000  2.014000e+03  \nFloor               4.000000       7.000000      12.000000  4.200000e+01  \nHouseFloor          9.000000      13.000000      17.000000  1.170000e+02  \nHouseYear        1974.000000    1977.000000    2001.000000  2.005201e+07  \nEcology_1           0.017647       0.075424       0.195781  5.218671e-01  \nSocial_1            6.000000      25.000000      36.000000  7.400000e+01  \nSocial_2         1564.000000    5285.000000    7227.000000  1.908300e+04  \nSocial_3            0.000000       2.000000       5.000000  1.410000e+02  \nHealthcare_1      350.000000     900.000000    1548.000000  4.849000e+03  \nHelthcare_2         0.000000       1.000000       2.000000  6.000000e+00  \nShops_1             1.000000       3.000000       6.000000  2.300000e+01  \nPrice          153872.633942  192269.644879  249135.462171  6.332335e+05  ",
      "text/html": "<div>\n<style scoped>\n    .dataframe tbody tr th:only-of-type {\n        vertical-align: middle;\n    }\n\n    .dataframe tbody tr th {\n        vertical-align: top;\n    }\n\n    .dataframe thead th {\n        text-align: right;\n    }\n</style>\n<table border=\"1\" class=\"dataframe\">\n  <thead>\n    <tr style=\"text-align: right;\">\n      <th></th>\n      <th>count</th>\n      <th>mean</th>\n      <th>std</th>\n      <th>min</th>\n      <th>25%</th>\n      <th>50%</th>\n      <th>75%</th>\n      <th>max</th>\n    </tr>\n  </thead>\n  <tbody>\n    <tr>\n      <th>DistrictId</th>\n      <td>10000.0</td>\n      <td>50.400800</td>\n      <td>43.587592</td>\n      <td>0.000000</td>\n      <td>20.000000</td>\n      <td>36.000000</td>\n      <td>75.000000</td>\n      <td>2.090000e+02</td>\n    </tr>\n    <tr>\n      <th>Rooms</th>\n      <td>10000.0</td>\n      <td>1.890500</td>\n      <td>0.839512</td>\n      <td>0.000000</td>\n      <td>1.000000</td>\n      <td>2.000000</td>\n      <td>2.000000</td>\n      <td>1.900000e+01</td>\n    </tr>\n    <tr>\n      <th>Square</th>\n      <td>10000.0</td>\n      <td>56.315775</td>\n      <td>21.058732</td>\n      <td>1.136859</td>\n      <td>41.774881</td>\n      <td>52.513310</td>\n      <td>65.900625</td>\n      <td>6.410652e+02</td>\n    </tr>\n    <tr>\n      <th>LifeSquare</th>\n      <td>7887.0</td>\n      <td>37.199645</td>\n      <td>86.241209</td>\n      <td>0.370619</td>\n      <td>22.769832</td>\n      <td>32.781260</td>\n      <td>45.128803</td>\n      <td>7.480592e+03</td>\n    </tr>\n    <tr>\n      <th>KitchenSquare</th>\n      <td>10000.0</td>\n      <td>6.273300</td>\n      <td>28.560917</td>\n      <td>0.000000</td>\n      <td>1.000000</td>\n      <td>6.000000</td>\n      <td>9.000000</td>\n      <td>2.014000e+03</td>\n    </tr>\n    <tr>\n      <th>Floor</th>\n      <td>10000.0</td>\n      <td>8.526700</td>\n      <td>5.241148</td>\n      <td>1.000000</td>\n      <td>4.000000</td>\n      <td>7.000000</td>\n      <td>12.000000</td>\n      <td>4.200000e+01</td>\n    </tr>\n    <tr>\n      <th>HouseFloor</th>\n      <td>10000.0</td>\n      <td>12.609400</td>\n      <td>6.775974</td>\n      <td>0.000000</td>\n      <td>9.000000</td>\n      <td>13.000000</td>\n      <td>17.000000</td>\n      <td>1.170000e+02</td>\n    </tr>\n    <tr>\n      <th>HouseYear</th>\n      <td>10000.0</td>\n      <td>3990.166300</td>\n      <td>200500.261427</td>\n      <td>1910.000000</td>\n      <td>1974.000000</td>\n      <td>1977.000000</td>\n      <td>2001.000000</td>\n      <td>2.005201e+07</td>\n    </tr>\n    <tr>\n      <th>Ecology_1</th>\n      <td>10000.0</td>\n      <td>0.118858</td>\n      <td>0.119025</td>\n      <td>0.000000</td>\n      <td>0.017647</td>\n      <td>0.075424</td>\n      <td>0.195781</td>\n      <td>5.218671e-01</td>\n    </tr>\n    <tr>\n      <th>Social_1</th>\n      <td>10000.0</td>\n      <td>24.687000</td>\n      <td>17.532614</td>\n      <td>0.000000</td>\n      <td>6.000000</td>\n      <td>25.000000</td>\n      <td>36.000000</td>\n      <td>7.400000e+01</td>\n    </tr>\n    <tr>\n      <th>Social_2</th>\n      <td>10000.0</td>\n      <td>5352.157400</td>\n      <td>4006.799803</td>\n      <td>168.000000</td>\n      <td>1564.000000</td>\n      <td>5285.000000</td>\n      <td>7227.000000</td>\n      <td>1.908300e+04</td>\n    </tr>\n    <tr>\n      <th>Social_3</th>\n      <td>10000.0</td>\n      <td>8.039200</td>\n      <td>23.831875</td>\n      <td>0.000000</td>\n      <td>0.000000</td>\n      <td>2.000000</td>\n      <td>5.000000</td>\n      <td>1.410000e+02</td>\n    </tr>\n    <tr>\n      <th>Healthcare_1</th>\n      <td>5202.0</td>\n      <td>1142.904460</td>\n      <td>1021.517264</td>\n      <td>0.000000</td>\n      <td>350.000000</td>\n      <td>900.000000</td>\n      <td>1548.000000</td>\n      <td>4.849000e+03</td>\n    </tr>\n    <tr>\n      <th>Helthcare_2</th>\n      <td>10000.0</td>\n      <td>1.319500</td>\n      <td>1.493601</td>\n      <td>0.000000</td>\n      <td>0.000000</td>\n      <td>1.000000</td>\n      <td>2.000000</td>\n      <td>6.000000e+00</td>\n    </tr>\n    <tr>\n      <th>Shops_1</th>\n      <td>10000.0</td>\n      <td>4.231300</td>\n      <td>4.806341</td>\n      <td>0.000000</td>\n      <td>1.000000</td>\n      <td>3.000000</td>\n      <td>6.000000</td>\n      <td>2.300000e+01</td>\n    </tr>\n    <tr>\n      <th>Price</th>\n      <td>10000.0</td>\n      <td>214138.857399</td>\n      <td>92872.293865</td>\n      <td>59174.778028</td>\n      <td>153872.633942</td>\n      <td>192269.644879</td>\n      <td>249135.462171</td>\n      <td>6.332335e+05</td>\n    </tr>\n  </tbody>\n</table>\n</div>"
     },
     "execution_count": 22,
     "metadata": {},
     "output_type": "execute_result"
    }
   ],
   "source": [
    "df.describe().transpose()"
   ]
  },
  {
   "cell_type": "code",
   "execution_count": 11,
   "metadata": {
    "pycharm": {
     "name": "#%%\n"
    }
   },
   "outputs": [
    {
     "data": {
      "text/plain": "       Ecology_2 Ecology_3 Shops_2\ncount      10000     10000   10000\nunique         2         2       2\ntop            B         B       B\nfreq        9903      9725    9175",
      "text/html": "<div>\n<style scoped>\n    .dataframe tbody tr th:only-of-type {\n        vertical-align: middle;\n    }\n\n    .dataframe tbody tr th {\n        vertical-align: top;\n    }\n\n    .dataframe thead th {\n        text-align: right;\n    }\n</style>\n<table border=\"1\" class=\"dataframe\">\n  <thead>\n    <tr style=\"text-align: right;\">\n      <th></th>\n      <th>Ecology_2</th>\n      <th>Ecology_3</th>\n      <th>Shops_2</th>\n    </tr>\n  </thead>\n  <tbody>\n    <tr>\n      <th>count</th>\n      <td>10000</td>\n      <td>10000</td>\n      <td>10000</td>\n    </tr>\n    <tr>\n      <th>unique</th>\n      <td>2</td>\n      <td>2</td>\n      <td>2</td>\n    </tr>\n    <tr>\n      <th>top</th>\n      <td>B</td>\n      <td>B</td>\n      <td>B</td>\n    </tr>\n    <tr>\n      <th>freq</th>\n      <td>9903</td>\n      <td>9725</td>\n      <td>9175</td>\n    </tr>\n  </tbody>\n</table>\n</div>"
     },
     "execution_count": 11,
     "metadata": {},
     "output_type": "execute_result"
    }
   ],
   "source": [
    "df.describe(include='object')"
   ]
  },
  {
   "cell_type": "code",
   "execution_count": 12,
   "metadata": {
    "pycharm": {
     "name": "#%%\n"
    }
   },
   "outputs": [
    {
     "data": {
      "text/plain": "B    9903\nA      97\nName: Ecology_2, dtype: int64"
     },
     "execution_count": 12,
     "metadata": {},
     "output_type": "execute_result"
    }
   ],
   "source": [
    "df['Ecology_2'].value_counts()"
   ]
  },
  {
   "cell_type": "code",
   "execution_count": 13,
   "metadata": {
    "pycharm": {
     "name": "#%%\n"
    }
   },
   "outputs": [
    {
     "data": {
      "text/plain": "B    9725\nA     275\nName: Ecology_3, dtype: int64"
     },
     "execution_count": 13,
     "metadata": {},
     "output_type": "execute_result"
    }
   ],
   "source": [
    "df['Ecology_3'].value_counts()"
   ]
  },
  {
   "cell_type": "code",
   "execution_count": 14,
   "metadata": {
    "pycharm": {
     "name": "#%%\n"
    }
   },
   "outputs": [
    {
     "data": {
      "text/plain": "B    9175\nA     825\nName: Shops_2, dtype: int64"
     },
     "execution_count": 14,
     "metadata": {},
     "output_type": "execute_result"
    }
   ],
   "source": [
    "df['Shops_2'].value_counts()"
   ]
  },
  {
   "cell_type": "code",
   "execution_count": 15,
   "metadata": {
    "pycharm": {
     "name": "#%%\n"
    }
   },
   "outputs": [
    {
     "data": {
      "text/plain": "array(['B', 'A'], dtype=object)"
     },
     "execution_count": 15,
     "metadata": {},
     "output_type": "execute_result"
    }
   ],
   "source": [
    "df['Ecology_2'].unique()"
   ]
  },
  {
   "cell_type": "code",
   "execution_count": 16,
   "metadata": {
    "pycharm": {
     "name": "#%%\n"
    }
   },
   "outputs": [
    {
     "data": {
      "text/plain": "array(['B', 'A'], dtype=object)"
     },
     "execution_count": 16,
     "metadata": {},
     "output_type": "execute_result"
    }
   ],
   "source": [
    "df['Ecology_3'].unique()"
   ]
  },
  {
   "cell_type": "code",
   "execution_count": 17,
   "metadata": {
    "pycharm": {
     "name": "#%%\n"
    }
   },
   "outputs": [
    {
     "data": {
      "text/plain": "array(['B', 'A'], dtype=object)"
     },
     "execution_count": 17,
     "metadata": {},
     "output_type": "execute_result"
    }
   ],
   "source": [
    "df['Shops_2'].unique()"
   ]
  },
  {
   "cell_type": "code",
   "execution_count": 18,
   "metadata": {
    "pycharm": {
     "name": "#%%\n"
    }
   },
   "outputs": [
    {
     "data": {
      "text/plain": "2"
     },
     "execution_count": 18,
     "metadata": {},
     "output_type": "execute_result"
    }
   ],
   "source": [
    "df['Ecology_2'].nunique()"
   ]
  },
  {
   "cell_type": "code",
   "execution_count": 19,
   "metadata": {
    "pycharm": {
     "name": "#%%\n"
    }
   },
   "outputs": [
    {
     "data": {
      "text/plain": "2"
     },
     "execution_count": 19,
     "metadata": {},
     "output_type": "execute_result"
    }
   ],
   "source": [
    "df['Ecology_3'].nunique()"
   ]
  },
  {
   "cell_type": "code",
   "execution_count": 20,
   "metadata": {
    "pycharm": {
     "name": "#%%\n"
    }
   },
   "outputs": [
    {
     "data": {
      "text/plain": "2"
     },
     "execution_count": 20,
     "metadata": {},
     "output_type": "execute_result"
    }
   ],
   "source": [
    "df['Shops_2'].nunique()"
   ]
  },
  {
   "cell_type": "code",
   "execution_count": 20,
   "metadata": {
    "pycharm": {
     "name": "#%%\n"
    }
   },
   "outputs": [],
   "source": []
  }
 ],
 "metadata": {
  "kernelspec": {
   "display_name": "Python 3 (ipykernel)",
   "language": "python",
   "name": "python3"
  },
  "language_info": {
   "codemirror_mode": {
    "name": "ipython",
    "version": 3
   },
   "file_extension": ".py",
   "mimetype": "text/x-python",
   "name": "python",
   "nbconvert_exporter": "python",
   "pygments_lexer": "ipython3",
   "version": "3.8.8"
  }
 },
 "nbformat": 4,
 "nbformat_minor": 1
}
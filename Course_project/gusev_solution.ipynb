{
 "cells": [
  {
   "cell_type": "markdown",
   "metadata": {
    "collapsed": true,
    "pycharm": {
     "name": "#%% md\n"
    }
   },
   "source": [
    "## Содержание\n"
   ]
  },
  {
   "cell_type": "markdown",
   "metadata": {
    "pycharm": {
     "name": "#%% md\n"
    }
   },
   "source": [
    "### Подключение библиотек и скриптов"
   ]
  },
  {
   "cell_type": "code",
   "execution_count": 24,
   "metadata": {
    "pycharm": {
     "name": "#%%\n"
    }
   },
   "outputs": [],
   "source": [
    "import numpy as np\n",
    "import pandas as pd\n",
    "import matplotlib.pyplot as plt\n",
    "from pandas.plotting import scatter_matrix\n",
    "import seaborn as sns"
   ]
  },
  {
   "cell_type": "markdown",
   "metadata": {
    "pycharm": {
     "name": "#%% md\n"
    }
   },
   "source": [
    "### Пути к директориям и файлам"
   ]
  },
  {
   "cell_type": "code",
   "execution_count": 25,
   "metadata": {
    "pycharm": {
     "name": "#%%\n"
    }
   },
   "outputs": [],
   "source": [
    "TRAIN_DATASET_PATH = '/home/gans/Документы/Обучение/GeekBrains/9. Библиотеки Python для DS/1. course project/input data/train.csv'\n",
    "TEST_DATASET_PATH = '/home/gans/Документы/Обучение/GeekBrains/9. Библиотеки Python для DS/1. course project/input data/test.csv'"
   ]
  },
  {
   "cell_type": "markdown",
   "metadata": {
    "pycharm": {
     "name": "#%% md\n"
    }
   },
   "source": [
    "### Описание датасета\n",
    "**Id** - идентификационный номер квартиры\n",
    "\n",
    "**DistrictId** - идентификационный номер района\n",
    "\n",
    "**Rooms** - количество комнат\n",
    "\n",
    "**Square** - площадь\n",
    "\n",
    "**LifeSquare** - жилая площадь\n",
    "\n",
    "**KitchenSquare** - площадь кухни\n",
    "\n",
    "**Floor** - этаж\n",
    "\n",
    "**HouseFloor** - количество этажей в доме\n",
    "\n",
    "**HouseYear** - год постройки дома\n",
    "\n",
    "**Ecology_1**, **Ecology_2**, **Ecology_3** - экологические показатели местности\n",
    "\n",
    "**Social_1**, **Social_2**, **Social_3** - социальные показатели местности\n",
    "\n",
    "**Healthcare_1**, **Helthcare_2** - показатели местности, связанные с охраной здоровья\n",
    "\n",
    "**Shops_1**, **Shops_2** - показатели, связанные с наличием магазинов, торговых центров\n",
    "\n",
    "**Price** - цена квартиры\n"
   ]
  },
  {
   "cell_type": "markdown",
   "source": [
    "### 1. Загрузка данных"
   ],
   "metadata": {
    "collapsed": false
   }
  },
  {
   "cell_type": "code",
   "execution_count": 26,
   "metadata": {
    "pycharm": {
     "name": "#%%\n"
    }
   },
   "outputs": [
    {
     "data": {
      "text/plain": "((10000, 19), (5000, 18))"
     },
     "execution_count": 26,
     "metadata": {},
     "output_type": "execute_result"
    }
   ],
   "source": [
    "\n",
    "df_train = pd.read_csv(TRAIN_DATASET_PATH, index_col='Id')\n",
    "df_test = pd.read_csv(TEST_DATASET_PATH, index_col='Id')\n",
    "\n",
    "df_train.shape, df_test.shape"
   ]
  },
  {
   "cell_type": "code",
   "execution_count": 43,
   "outputs": [
    {
     "data": {
      "text/plain": "       DistrictId  Rooms     Square  LifeSquare  KitchenSquare  Floor  \\\nId                                                                      \n14038          35    2.0  47.981561   29.442751            6.0      7   \n15053          41    3.0  65.683640   40.049543            8.0      7   \n4765           53    2.0  44.947953   29.197612            0.0      8   \n5809           58    2.0  53.352981   52.731512            9.0      8   \n10783          99    1.0  39.649192   23.776169            7.0     11   \n\n       HouseFloor  HouseYear  Ecology_1 Ecology_2 Ecology_3  Social_1  \\\nId                                                                      \n14038         9.0       1969   0.089040         B         B        33   \n15053         9.0       1978   0.000070         B         B        46   \n4765         12.0       1968   0.049637         B         B        34   \n5809         17.0       1977   0.437885         B         B        23   \n10783        12.0       1976   0.012339         B         B        35   \n\n       Social_2  Social_3  Healthcare_1  Helthcare_2  Shops_1 Shops_2  \\\nId                                                                      \n14038      7976         5           NaN            0       11       B   \n15053     10309         1         240.0            1       16       B   \n4765       7759         0         229.0            1        3       B   \n5809       5735         3        1084.0            0        5       B   \n10783      5776         1        2078.0            2        4       B   \n\n               Price  \nId                    \n14038  184966.930730  \n15053  300009.450063  \n4765   220925.908524  \n5809   175616.227217  \n10783  150226.531644  ",
      "text/html": "<div>\n<style scoped>\n    .dataframe tbody tr th:only-of-type {\n        vertical-align: middle;\n    }\n\n    .dataframe tbody tr th {\n        vertical-align: top;\n    }\n\n    .dataframe thead th {\n        text-align: right;\n    }\n</style>\n<table border=\"1\" class=\"dataframe\">\n  <thead>\n    <tr style=\"text-align: right;\">\n      <th></th>\n      <th>DistrictId</th>\n      <th>Rooms</th>\n      <th>Square</th>\n      <th>LifeSquare</th>\n      <th>KitchenSquare</th>\n      <th>Floor</th>\n      <th>HouseFloor</th>\n      <th>HouseYear</th>\n      <th>Ecology_1</th>\n      <th>Ecology_2</th>\n      <th>Ecology_3</th>\n      <th>Social_1</th>\n      <th>Social_2</th>\n      <th>Social_3</th>\n      <th>Healthcare_1</th>\n      <th>Helthcare_2</th>\n      <th>Shops_1</th>\n      <th>Shops_2</th>\n      <th>Price</th>\n    </tr>\n    <tr>\n      <th>Id</th>\n      <th></th>\n      <th></th>\n      <th></th>\n      <th></th>\n      <th></th>\n      <th></th>\n      <th></th>\n      <th></th>\n      <th></th>\n      <th></th>\n      <th></th>\n      <th></th>\n      <th></th>\n      <th></th>\n      <th></th>\n      <th></th>\n      <th></th>\n      <th></th>\n      <th></th>\n    </tr>\n  </thead>\n  <tbody>\n    <tr>\n      <th>14038</th>\n      <td>35</td>\n      <td>2.0</td>\n      <td>47.981561</td>\n      <td>29.442751</td>\n      <td>6.0</td>\n      <td>7</td>\n      <td>9.0</td>\n      <td>1969</td>\n      <td>0.089040</td>\n      <td>B</td>\n      <td>B</td>\n      <td>33</td>\n      <td>7976</td>\n      <td>5</td>\n      <td>NaN</td>\n      <td>0</td>\n      <td>11</td>\n      <td>B</td>\n      <td>184966.930730</td>\n    </tr>\n    <tr>\n      <th>15053</th>\n      <td>41</td>\n      <td>3.0</td>\n      <td>65.683640</td>\n      <td>40.049543</td>\n      <td>8.0</td>\n      <td>7</td>\n      <td>9.0</td>\n      <td>1978</td>\n      <td>0.000070</td>\n      <td>B</td>\n      <td>B</td>\n      <td>46</td>\n      <td>10309</td>\n      <td>1</td>\n      <td>240.0</td>\n      <td>1</td>\n      <td>16</td>\n      <td>B</td>\n      <td>300009.450063</td>\n    </tr>\n    <tr>\n      <th>4765</th>\n      <td>53</td>\n      <td>2.0</td>\n      <td>44.947953</td>\n      <td>29.197612</td>\n      <td>0.0</td>\n      <td>8</td>\n      <td>12.0</td>\n      <td>1968</td>\n      <td>0.049637</td>\n      <td>B</td>\n      <td>B</td>\n      <td>34</td>\n      <td>7759</td>\n      <td>0</td>\n      <td>229.0</td>\n      <td>1</td>\n      <td>3</td>\n      <td>B</td>\n      <td>220925.908524</td>\n    </tr>\n    <tr>\n      <th>5809</th>\n      <td>58</td>\n      <td>2.0</td>\n      <td>53.352981</td>\n      <td>52.731512</td>\n      <td>9.0</td>\n      <td>8</td>\n      <td>17.0</td>\n      <td>1977</td>\n      <td>0.437885</td>\n      <td>B</td>\n      <td>B</td>\n      <td>23</td>\n      <td>5735</td>\n      <td>3</td>\n      <td>1084.0</td>\n      <td>0</td>\n      <td>5</td>\n      <td>B</td>\n      <td>175616.227217</td>\n    </tr>\n    <tr>\n      <th>10783</th>\n      <td>99</td>\n      <td>1.0</td>\n      <td>39.649192</td>\n      <td>23.776169</td>\n      <td>7.0</td>\n      <td>11</td>\n      <td>12.0</td>\n      <td>1976</td>\n      <td>0.012339</td>\n      <td>B</td>\n      <td>B</td>\n      <td>35</td>\n      <td>5776</td>\n      <td>1</td>\n      <td>2078.0</td>\n      <td>2</td>\n      <td>4</td>\n      <td>B</td>\n      <td>150226.531644</td>\n    </tr>\n  </tbody>\n</table>\n</div>"
     },
     "execution_count": 43,
     "metadata": {},
     "output_type": "execute_result"
    }
   ],
   "source": [
    "df_train.head()"
   ],
   "metadata": {
    "collapsed": false,
    "pycharm": {
     "name": "#%%\n"
    }
   }
  },
  {
   "cell_type": "code",
   "execution_count": 44,
   "outputs": [
    {
     "data": {
      "text/plain": "       DistrictId  Rooms     Square  LifeSquare  KitchenSquare  Floor  \\\nId                                                                      \n725            58    2.0  49.882643   33.432782            6.0      6   \n15856          74    2.0  69.263183         NaN            1.0      6   \n5480          190    1.0  13.597819   15.948246           12.0      2   \n15664          47    2.0  73.046609   51.940842            9.0     22   \n14275          27    1.0  47.527111   43.387569            1.0     17   \n\n       HouseFloor  HouseYear  Ecology_1 Ecology_2 Ecology_3  Social_1  \\\nId                                                                      \n725          14.0       1972   0.310199         B         B        11   \n15856         1.0       1977   0.075779         B         B         6   \n5480          5.0       1909   0.000000         B         B        30   \n15664        22.0       2007   0.101872         B         B        23   \n14275        17.0       2017   0.072158         B         B         2   \n\n       Social_2  Social_3  Healthcare_1  Helthcare_2  Shops_1 Shops_2  \nId                                                                     \n725        2748         1           NaN            0        0       B  \n15856      1437         3           NaN            0        2       B  \n5480       7538        87        4702.0            5        5       B  \n15664      4583         3           NaN            3        3       B  \n14275       629         1           NaN            0        0       A  ",
      "text/html": "<div>\n<style scoped>\n    .dataframe tbody tr th:only-of-type {\n        vertical-align: middle;\n    }\n\n    .dataframe tbody tr th {\n        vertical-align: top;\n    }\n\n    .dataframe thead th {\n        text-align: right;\n    }\n</style>\n<table border=\"1\" class=\"dataframe\">\n  <thead>\n    <tr style=\"text-align: right;\">\n      <th></th>\n      <th>DistrictId</th>\n      <th>Rooms</th>\n      <th>Square</th>\n      <th>LifeSquare</th>\n      <th>KitchenSquare</th>\n      <th>Floor</th>\n      <th>HouseFloor</th>\n      <th>HouseYear</th>\n      <th>Ecology_1</th>\n      <th>Ecology_2</th>\n      <th>Ecology_3</th>\n      <th>Social_1</th>\n      <th>Social_2</th>\n      <th>Social_3</th>\n      <th>Healthcare_1</th>\n      <th>Helthcare_2</th>\n      <th>Shops_1</th>\n      <th>Shops_2</th>\n    </tr>\n    <tr>\n      <th>Id</th>\n      <th></th>\n      <th></th>\n      <th></th>\n      <th></th>\n      <th></th>\n      <th></th>\n      <th></th>\n      <th></th>\n      <th></th>\n      <th></th>\n      <th></th>\n      <th></th>\n      <th></th>\n      <th></th>\n      <th></th>\n      <th></th>\n      <th></th>\n      <th></th>\n    </tr>\n  </thead>\n  <tbody>\n    <tr>\n      <th>725</th>\n      <td>58</td>\n      <td>2.0</td>\n      <td>49.882643</td>\n      <td>33.432782</td>\n      <td>6.0</td>\n      <td>6</td>\n      <td>14.0</td>\n      <td>1972</td>\n      <td>0.310199</td>\n      <td>B</td>\n      <td>B</td>\n      <td>11</td>\n      <td>2748</td>\n      <td>1</td>\n      <td>NaN</td>\n      <td>0</td>\n      <td>0</td>\n      <td>B</td>\n    </tr>\n    <tr>\n      <th>15856</th>\n      <td>74</td>\n      <td>2.0</td>\n      <td>69.263183</td>\n      <td>NaN</td>\n      <td>1.0</td>\n      <td>6</td>\n      <td>1.0</td>\n      <td>1977</td>\n      <td>0.075779</td>\n      <td>B</td>\n      <td>B</td>\n      <td>6</td>\n      <td>1437</td>\n      <td>3</td>\n      <td>NaN</td>\n      <td>0</td>\n      <td>2</td>\n      <td>B</td>\n    </tr>\n    <tr>\n      <th>5480</th>\n      <td>190</td>\n      <td>1.0</td>\n      <td>13.597819</td>\n      <td>15.948246</td>\n      <td>12.0</td>\n      <td>2</td>\n      <td>5.0</td>\n      <td>1909</td>\n      <td>0.000000</td>\n      <td>B</td>\n      <td>B</td>\n      <td>30</td>\n      <td>7538</td>\n      <td>87</td>\n      <td>4702.0</td>\n      <td>5</td>\n      <td>5</td>\n      <td>B</td>\n    </tr>\n    <tr>\n      <th>15664</th>\n      <td>47</td>\n      <td>2.0</td>\n      <td>73.046609</td>\n      <td>51.940842</td>\n      <td>9.0</td>\n      <td>22</td>\n      <td>22.0</td>\n      <td>2007</td>\n      <td>0.101872</td>\n      <td>B</td>\n      <td>B</td>\n      <td>23</td>\n      <td>4583</td>\n      <td>3</td>\n      <td>NaN</td>\n      <td>3</td>\n      <td>3</td>\n      <td>B</td>\n    </tr>\n    <tr>\n      <th>14275</th>\n      <td>27</td>\n      <td>1.0</td>\n      <td>47.527111</td>\n      <td>43.387569</td>\n      <td>1.0</td>\n      <td>17</td>\n      <td>17.0</td>\n      <td>2017</td>\n      <td>0.072158</td>\n      <td>B</td>\n      <td>B</td>\n      <td>2</td>\n      <td>629</td>\n      <td>1</td>\n      <td>NaN</td>\n      <td>0</td>\n      <td>0</td>\n      <td>A</td>\n    </tr>\n  </tbody>\n</table>\n</div>"
     },
     "execution_count": 44,
     "metadata": {},
     "output_type": "execute_result"
    }
   ],
   "source": [
    "df_test.head()"
   ],
   "metadata": {
    "collapsed": false,
    "pycharm": {
     "name": "#%%\n"
    }
   }
  },
  {
   "cell_type": "markdown",
   "metadata": {
    "pycharm": {
     "name": "#%% md\n"
    }
   },
   "source": [
    "### 2. Получение информации о данных df_train (EDA)"
   ]
  },
  {
   "cell_type": "code",
   "execution_count": 45,
   "metadata": {
    "pycharm": {
     "name": "#%%\n"
    }
   },
   "outputs": [
    {
     "name": "stdout",
     "output_type": "stream",
     "text": [
      "df_train:\n",
      " Index(['DistrictId', 'Rooms', 'Square', 'LifeSquare', 'KitchenSquare', 'Floor',\n",
      "       'HouseFloor', 'HouseYear', 'Ecology_1', 'Ecology_2', 'Ecology_3',\n",
      "       'Social_1', 'Social_2', 'Social_3', 'Healthcare_1', 'Helthcare_2',\n",
      "       'Shops_1', 'Shops_2', 'Price'],\n",
      "      dtype='object')\n"
     ]
    }
   ],
   "source": [
    "print(f'df_train:\\n {df_train.columns}')"
   ]
  },
  {
   "cell_type": "markdown",
   "source": [
    "Развернутая информация"
   ],
   "metadata": {
    "collapsed": false,
    "pycharm": {
     "name": "#%% md\n"
    }
   }
  },
  {
   "cell_type": "code",
   "execution_count": 30,
   "outputs": [
    {
     "name": "stdout",
     "output_type": "stream",
     "text": [
      "<class 'pandas.core.frame.DataFrame'>\n",
      "Int64Index: 10000 entries, 14038 to 6306\n",
      "Data columns (total 19 columns):\n",
      " #   Column         Non-Null Count  Dtype  \n",
      "---  ------         --------------  -----  \n",
      " 0   DistrictId     10000 non-null  int64  \n",
      " 1   Rooms          10000 non-null  float64\n",
      " 2   Square         10000 non-null  float64\n",
      " 3   LifeSquare     7887 non-null   float64\n",
      " 4   KitchenSquare  10000 non-null  float64\n",
      " 5   Floor          10000 non-null  int64  \n",
      " 6   HouseFloor     10000 non-null  float64\n",
      " 7   HouseYear      10000 non-null  int64  \n",
      " 8   Ecology_1      10000 non-null  float64\n",
      " 9   Ecology_2      10000 non-null  object \n",
      " 10  Ecology_3      10000 non-null  object \n",
      " 11  Social_1       10000 non-null  int64  \n",
      " 12  Social_2       10000 non-null  int64  \n",
      " 13  Social_3       10000 non-null  int64  \n",
      " 14  Healthcare_1   5202 non-null   float64\n",
      " 15  Helthcare_2    10000 non-null  int64  \n",
      " 16  Shops_1        10000 non-null  int64  \n",
      " 17  Shops_2        10000 non-null  object \n",
      " 18  Price          10000 non-null  float64\n",
      "dtypes: float64(8), int64(8), object(3)\n",
      "memory usage: 1.5+ MB\n"
     ]
    }
   ],
   "source": [
    "df_train.info()"
   ],
   "metadata": {
    "collapsed": false,
    "pycharm": {
     "name": "#%%\n"
    }
   }
  },
  {
   "cell_type": "markdown",
   "source": [
    "Можно отметить, что:\n",
    "- есть пропуски в LifeSquare\n",
    "- есть пропуски в Healthcare_1\n",
    "- большая часть полей типа float64, но так же есть поля типа int64 и object"
   ],
   "metadata": {
    "collapsed": false,
    "pycharm": {
     "name": "#%% md\n"
    }
   }
  },
  {
   "cell_type": "markdown",
   "source": [
    "Статистика по всем количественным столбцам"
   ],
   "metadata": {
    "collapsed": false,
    "pycharm": {
     "name": "#%% md\n"
    }
   }
  },
  {
   "cell_type": "code",
   "execution_count": 32,
   "metadata": {
    "pycharm": {
     "name": "#%%\n"
    }
   },
   "outputs": [
    {
     "data": {
      "text/plain": "         DistrictId         Rooms        Square   LifeSquare  KitchenSquare  \\\ncount  10000.000000  10000.000000  10000.000000  7887.000000   10000.000000   \nmean      50.400800      1.890500     56.315775    37.199645       6.273300   \nstd       43.587592      0.839512     21.058732    86.241209      28.560917   \nmin        0.000000      0.000000      1.136859     0.370619       0.000000   \n25%       20.000000      1.000000     41.774881    22.769832       1.000000   \n50%       36.000000      2.000000     52.513310    32.781260       6.000000   \n75%       75.000000      2.000000     65.900625    45.128803       9.000000   \nmax      209.000000     19.000000    641.065193  7480.592129    2014.000000   \n\n              Floor    HouseFloor     HouseYear     Ecology_1      Social_1  \\\ncount  10000.000000  10000.000000  1.000000e+04  10000.000000  10000.000000   \nmean       8.526700     12.609400  3.990166e+03      0.118858     24.687000   \nstd        5.241148      6.775974  2.005003e+05      0.119025     17.532614   \nmin        1.000000      0.000000  1.910000e+03      0.000000      0.000000   \n25%        4.000000      9.000000  1.974000e+03      0.017647      6.000000   \n50%        7.000000     13.000000  1.977000e+03      0.075424     25.000000   \n75%       12.000000     17.000000  2.001000e+03      0.195781     36.000000   \nmax       42.000000    117.000000  2.005201e+07      0.521867     74.000000   \n\n           Social_2      Social_3  Healthcare_1   Helthcare_2       Shops_1  \\\ncount  10000.000000  10000.000000   5202.000000  10000.000000  10000.000000   \nmean    5352.157400      8.039200   1142.904460      1.319500      4.231300   \nstd     4006.799803     23.831875   1021.517264      1.493601      4.806341   \nmin      168.000000      0.000000      0.000000      0.000000      0.000000   \n25%     1564.000000      0.000000    350.000000      0.000000      1.000000   \n50%     5285.000000      2.000000    900.000000      1.000000      3.000000   \n75%     7227.000000      5.000000   1548.000000      2.000000      6.000000   \nmax    19083.000000    141.000000   4849.000000      6.000000     23.000000   \n\n               Price  \ncount   10000.000000  \nmean   214138.857399  \nstd     92872.293865  \nmin     59174.778028  \n25%    153872.633942  \n50%    192269.644879  \n75%    249135.462171  \nmax    633233.466570  ",
      "text/html": "<div>\n<style scoped>\n    .dataframe tbody tr th:only-of-type {\n        vertical-align: middle;\n    }\n\n    .dataframe tbody tr th {\n        vertical-align: top;\n    }\n\n    .dataframe thead th {\n        text-align: right;\n    }\n</style>\n<table border=\"1\" class=\"dataframe\">\n  <thead>\n    <tr style=\"text-align: right;\">\n      <th></th>\n      <th>DistrictId</th>\n      <th>Rooms</th>\n      <th>Square</th>\n      <th>LifeSquare</th>\n      <th>KitchenSquare</th>\n      <th>Floor</th>\n      <th>HouseFloor</th>\n      <th>HouseYear</th>\n      <th>Ecology_1</th>\n      <th>Social_1</th>\n      <th>Social_2</th>\n      <th>Social_3</th>\n      <th>Healthcare_1</th>\n      <th>Helthcare_2</th>\n      <th>Shops_1</th>\n      <th>Price</th>\n    </tr>\n  </thead>\n  <tbody>\n    <tr>\n      <th>count</th>\n      <td>10000.000000</td>\n      <td>10000.000000</td>\n      <td>10000.000000</td>\n      <td>7887.000000</td>\n      <td>10000.000000</td>\n      <td>10000.000000</td>\n      <td>10000.000000</td>\n      <td>1.000000e+04</td>\n      <td>10000.000000</td>\n      <td>10000.000000</td>\n      <td>10000.000000</td>\n      <td>10000.000000</td>\n      <td>5202.000000</td>\n      <td>10000.000000</td>\n      <td>10000.000000</td>\n      <td>10000.000000</td>\n    </tr>\n    <tr>\n      <th>mean</th>\n      <td>50.400800</td>\n      <td>1.890500</td>\n      <td>56.315775</td>\n      <td>37.199645</td>\n      <td>6.273300</td>\n      <td>8.526700</td>\n      <td>12.609400</td>\n      <td>3.990166e+03</td>\n      <td>0.118858</td>\n      <td>24.687000</td>\n      <td>5352.157400</td>\n      <td>8.039200</td>\n      <td>1142.904460</td>\n      <td>1.319500</td>\n      <td>4.231300</td>\n      <td>214138.857399</td>\n    </tr>\n    <tr>\n      <th>std</th>\n      <td>43.587592</td>\n      <td>0.839512</td>\n      <td>21.058732</td>\n      <td>86.241209</td>\n      <td>28.560917</td>\n      <td>5.241148</td>\n      <td>6.775974</td>\n      <td>2.005003e+05</td>\n      <td>0.119025</td>\n      <td>17.532614</td>\n      <td>4006.799803</td>\n      <td>23.831875</td>\n      <td>1021.517264</td>\n      <td>1.493601</td>\n      <td>4.806341</td>\n      <td>92872.293865</td>\n    </tr>\n    <tr>\n      <th>min</th>\n      <td>0.000000</td>\n      <td>0.000000</td>\n      <td>1.136859</td>\n      <td>0.370619</td>\n      <td>0.000000</td>\n      <td>1.000000</td>\n      <td>0.000000</td>\n      <td>1.910000e+03</td>\n      <td>0.000000</td>\n      <td>0.000000</td>\n      <td>168.000000</td>\n      <td>0.000000</td>\n      <td>0.000000</td>\n      <td>0.000000</td>\n      <td>0.000000</td>\n      <td>59174.778028</td>\n    </tr>\n    <tr>\n      <th>25%</th>\n      <td>20.000000</td>\n      <td>1.000000</td>\n      <td>41.774881</td>\n      <td>22.769832</td>\n      <td>1.000000</td>\n      <td>4.000000</td>\n      <td>9.000000</td>\n      <td>1.974000e+03</td>\n      <td>0.017647</td>\n      <td>6.000000</td>\n      <td>1564.000000</td>\n      <td>0.000000</td>\n      <td>350.000000</td>\n      <td>0.000000</td>\n      <td>1.000000</td>\n      <td>153872.633942</td>\n    </tr>\n    <tr>\n      <th>50%</th>\n      <td>36.000000</td>\n      <td>2.000000</td>\n      <td>52.513310</td>\n      <td>32.781260</td>\n      <td>6.000000</td>\n      <td>7.000000</td>\n      <td>13.000000</td>\n      <td>1.977000e+03</td>\n      <td>0.075424</td>\n      <td>25.000000</td>\n      <td>5285.000000</td>\n      <td>2.000000</td>\n      <td>900.000000</td>\n      <td>1.000000</td>\n      <td>3.000000</td>\n      <td>192269.644879</td>\n    </tr>\n    <tr>\n      <th>75%</th>\n      <td>75.000000</td>\n      <td>2.000000</td>\n      <td>65.900625</td>\n      <td>45.128803</td>\n      <td>9.000000</td>\n      <td>12.000000</td>\n      <td>17.000000</td>\n      <td>2.001000e+03</td>\n      <td>0.195781</td>\n      <td>36.000000</td>\n      <td>7227.000000</td>\n      <td>5.000000</td>\n      <td>1548.000000</td>\n      <td>2.000000</td>\n      <td>6.000000</td>\n      <td>249135.462171</td>\n    </tr>\n    <tr>\n      <th>max</th>\n      <td>209.000000</td>\n      <td>19.000000</td>\n      <td>641.065193</td>\n      <td>7480.592129</td>\n      <td>2014.000000</td>\n      <td>42.000000</td>\n      <td>117.000000</td>\n      <td>2.005201e+07</td>\n      <td>0.521867</td>\n      <td>74.000000</td>\n      <td>19083.000000</td>\n      <td>141.000000</td>\n      <td>4849.000000</td>\n      <td>6.000000</td>\n      <td>23.000000</td>\n      <td>633233.466570</td>\n    </tr>\n  </tbody>\n</table>\n</div>"
     },
     "execution_count": 32,
     "metadata": {},
     "output_type": "execute_result"
    }
   ],
   "source": [
    "df_train.describe()"
   ]
  },
  {
   "cell_type": "markdown",
   "source": [
    "Статистика по всем категориальным столбцам"
   ],
   "metadata": {
    "collapsed": false,
    "pycharm": {
     "name": "#%% md\n"
    }
   }
  },
  {
   "cell_type": "code",
   "execution_count": 33,
   "metadata": {
    "pycharm": {
     "name": "#%%\n"
    }
   },
   "outputs": [
    {
     "data": {
      "text/plain": "       Ecology_2 Ecology_3 Shops_2\ncount      10000     10000   10000\nunique         2         2       2\ntop            B         B       B\nfreq        9903      9725    9175",
      "text/html": "<div>\n<style scoped>\n    .dataframe tbody tr th:only-of-type {\n        vertical-align: middle;\n    }\n\n    .dataframe tbody tr th {\n        vertical-align: top;\n    }\n\n    .dataframe thead th {\n        text-align: right;\n    }\n</style>\n<table border=\"1\" class=\"dataframe\">\n  <thead>\n    <tr style=\"text-align: right;\">\n      <th></th>\n      <th>Ecology_2</th>\n      <th>Ecology_3</th>\n      <th>Shops_2</th>\n    </tr>\n  </thead>\n  <tbody>\n    <tr>\n      <th>count</th>\n      <td>10000</td>\n      <td>10000</td>\n      <td>10000</td>\n    </tr>\n    <tr>\n      <th>unique</th>\n      <td>2</td>\n      <td>2</td>\n      <td>2</td>\n    </tr>\n    <tr>\n      <th>top</th>\n      <td>B</td>\n      <td>B</td>\n      <td>B</td>\n    </tr>\n    <tr>\n      <th>freq</th>\n      <td>9903</td>\n      <td>9725</td>\n      <td>9175</td>\n    </tr>\n  </tbody>\n</table>\n</div>"
     },
     "execution_count": 33,
     "metadata": {},
     "output_type": "execute_result"
    }
   ],
   "source": [
    "df_train.describe(include='object')"
   ]
  },
  {
   "cell_type": "code",
   "execution_count": 34,
   "metadata": {
    "pycharm": {
     "name": "#%%\n"
    }
   },
   "outputs": [
    {
     "data": {
      "text/plain": "B    9903\nA      97\nName: Ecology_2, dtype: int64"
     },
     "execution_count": 34,
     "metadata": {},
     "output_type": "execute_result"
    }
   ],
   "source": [
    "df_train['Ecology_2'].value_counts()"
   ]
  },
  {
   "cell_type": "code",
   "source": [
    "df_train['Ecology_3'].value_counts()"
   ],
   "metadata": {
    "collapsed": false,
    "pycharm": {
     "name": "#%%\n"
    }
   },
   "execution_count": 35,
   "outputs": [
    {
     "data": {
      "text/plain": "B    9725\nA     275\nName: Ecology_3, dtype: int64"
     },
     "execution_count": 35,
     "metadata": {},
     "output_type": "execute_result"
    }
   ]
  },
  {
   "cell_type": "code",
   "execution_count": 36,
   "metadata": {
    "pycharm": {
     "name": "#%%\n"
    }
   },
   "outputs": [
    {
     "data": {
      "text/plain": "B    9175\nA     825\nName: Shops_2, dtype: int64"
     },
     "execution_count": 36,
     "metadata": {},
     "output_type": "execute_result"
    }
   ],
   "source": [
    "df_train['Shops_2'].value_counts()"
   ]
  },
  {
   "cell_type": "markdown",
   "source": [
    "Заменим текстовые значения признаков Ecology_2, Ecology_3 и Shops_2 бинарными значениями."
   ],
   "metadata": {
    "collapsed": false,
    "pycharm": {
     "name": "#%% md\n"
    }
   }
  },
  {
   "cell_type": "code",
   "execution_count": 52,
   "outputs": [],
   "source": [
    "feature_bin_names = ['Ecology_2', 'Ecology_3', 'Shops_2']\n",
    "\n",
    "df_train[feature_bin_names] = df_train[feature_bin_names].replace({'A' :0, 'B' :1})"
   ],
   "metadata": {
    "collapsed": false,
    "pycharm": {
     "name": "#%%\n"
    }
   }
  },
  {
   "cell_type": "markdown",
   "source": [
    "Оценим распределение величин"
   ],
   "metadata": {
    "collapsed": false,
    "pycharm": {
     "name": "#%% md\n"
    }
   }
  },
  {
   "cell_type": "code",
   "execution_count": 56,
   "outputs": [
    {
     "data": {
      "text/plain": "array([[<AxesSubplot:title={'center':'DistrictId'}>,\n        <AxesSubplot:title={'center':'Rooms'}>,\n        <AxesSubplot:title={'center':'Square'}>,\n        <AxesSubplot:title={'center':'LifeSquare'}>],\n       [<AxesSubplot:title={'center':'KitchenSquare'}>,\n        <AxesSubplot:title={'center':'Floor'}>,\n        <AxesSubplot:title={'center':'HouseFloor'}>,\n        <AxesSubplot:title={'center':'HouseYear'}>],\n       [<AxesSubplot:title={'center':'Ecology_1'}>,\n        <AxesSubplot:title={'center':'Ecology_2'}>,\n        <AxesSubplot:title={'center':'Ecology_3'}>,\n        <AxesSubplot:title={'center':'Social_1'}>],\n       [<AxesSubplot:title={'center':'Social_2'}>,\n        <AxesSubplot:title={'center':'Social_3'}>,\n        <AxesSubplot:title={'center':'Healthcare_1'}>,\n        <AxesSubplot:title={'center':'Helthcare_2'}>],\n       [<AxesSubplot:title={'center':'Shops_1'}>,\n        <AxesSubplot:title={'center':'Shops_2'}>,\n        <AxesSubplot:title={'center':'Price'}>, <AxesSubplot:>]],\n      dtype=object)"
     },
     "execution_count": 56,
     "metadata": {},
     "output_type": "execute_result"
    },
    {
     "data": {
      "text/plain": "<Figure size 1728x1152 with 20 Axes>",
      "image/png": "[encoded data removed]"
     },
     "metadata": {
      "needs_background": "light"
     },
     "output_type": "display_data"
    }
   ],
   "source": [
    "df_train.hist(figsize=(24,16))"
   ],
   "metadata": {
    "collapsed": false,
    "pycharm": {
     "name": "#%%\n"
    }
   }
  },
  {
   "cell_type": "markdown",
   "source": [
    "Можно предположить о наличии выбросов в признаках:\n",
    "- Room\n",
    "- Square\n",
    "- LifeSquare\n",
    "- KitchenSquare\n",
    "- Floor\n",
    "- HouseFloor\n",
    "- HouseYear\n",
    "- Ecology_2\n",
    "- Ecology_3\n",
    "- Social_3\n",
    "- Shops_2"
   ],
   "metadata": {
    "collapsed": false
   }
  },
  {
   "cell_type": "markdown",
   "source": [
    "### 3. Очистка данных и устранение пробелов"
   ],
   "metadata": {
    "collapsed": false,
    "pycharm": {
     "name": "#%% md\n"
    }
   }
  },
  {
   "cell_type": "markdown",
   "source": [
    "Определение количества пропусков в датасете"
   ],
   "metadata": {
    "collapsed": false,
    "pycharm": {
     "name": "#%% md\n"
    }
   }
  },
  {
   "cell_type": "code",
   "execution_count": 39,
   "outputs": [
    {
     "data": {
      "text/plain": "DistrictId          0\nRooms               0\nSquare              0\nLifeSquare       2113\nKitchenSquare       0\nFloor               0\nHouseFloor          0\nHouseYear           0\nEcology_1           0\nEcology_2           0\nEcology_3           0\nSocial_1            0\nSocial_2            0\nSocial_3            0\nHealthcare_1     4798\nHelthcare_2         0\nShops_1             0\nShops_2             0\nPrice               0\ndtype: int64"
     },
     "execution_count": 39,
     "metadata": {},
     "output_type": "execute_result"
    }
   ],
   "source": [
    "df_train.isnull().sum()"
   ],
   "metadata": {
    "collapsed": false,
    "pycharm": {
     "name": "#%%\n"
    }
   }
  },
  {
   "cell_type": "markdown",
   "source": [
    "Определение доли пропущенных значений"
   ],
   "metadata": {
    "collapsed": false,
    "pycharm": {
     "name": "#%% md\n"
    }
   }
  },
  {
   "cell_type": "code",
   "execution_count": 40,
   "outputs": [
    {
     "data": {
      "text/plain": "DistrictId        0.00\nRooms             0.00\nSquare            0.00\nLifeSquare       21.13\nKitchenSquare     0.00\nFloor             0.00\nHouseFloor        0.00\nHouseYear         0.00\nEcology_1         0.00\nEcology_2         0.00\nEcology_3         0.00\nSocial_1          0.00\nSocial_2          0.00\nSocial_3          0.00\nHealthcare_1     47.98\nHelthcare_2       0.00\nShops_1           0.00\nShops_2           0.00\nPrice             0.00\ndtype: float64"
     },
     "execution_count": 40,
     "metadata": {},
     "output_type": "execute_result"
    }
   ],
   "source": [
    "round(df_train.isna().mean() * 100, 2)"
   ],
   "metadata": {
    "collapsed": false,
    "pycharm": {
     "name": "#%%\n"
    }
   }
  },
  {
   "cell_type": "markdown",
   "source": [
    "Вывод: Имеем два признака с пропусками: LifeSquare 21,13% и Healthcare_1 47,98%.\n",
    "Произведем работу над ними."
   ],
   "metadata": {
    "collapsed": false,
    "pycharm": {
     "name": "#%% md\n"
    }
   }
  },
  {
   "cell_type": "markdown",
   "source": [
    "LifeSquare"
   ],
   "metadata": {
    "collapsed": false,
    "pycharm": {
     "name": "#%% md\n"
    }
   }
  },
  {
   "cell_type": "markdown",
   "source": [
    "Healthcare_1"
   ],
   "metadata": {
    "collapsed": false
   }
  },
  {
   "cell_type": "code",
   "execution_count": null,
   "outputs": [],
   "source": [],
   "metadata": {
    "collapsed": false,
    "pycharm": {
     "name": "#%%\n"
    }
   }
  }
 ],
 "metadata": {
  "kernelspec": {
   "display_name": "Python 3 (ipykernel)",
   "language": "python",
   "name": "python3"
  },
  "language_info": {
   "codemirror_mode": {
    "name": "ipython",
    "version": 3
   },
   "file_extension": ".py",
   "mimetype": "text/x-python",
   "name": "python",
   "nbconvert_exporter": "python",
   "pygments_lexer": "ipython3",
   "version": "3.8.8"
  }
 },
 "nbformat": 4,
 "nbformat_minor": 1
}